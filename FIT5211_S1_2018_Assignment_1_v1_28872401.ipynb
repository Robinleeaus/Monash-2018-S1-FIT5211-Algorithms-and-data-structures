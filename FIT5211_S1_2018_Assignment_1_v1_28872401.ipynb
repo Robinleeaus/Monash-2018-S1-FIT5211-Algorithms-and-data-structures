{
 "cells": [
  {
   "cell_type": "markdown",
   "metadata": {},
   "source": [
    "# Instructions\n",
    "* You must work on this assignment individually.\n",
    "* This assignment contributes 20% towards your final mark in FIT5211.\n",
    "* The subjects are computational complexity, recursion, divide-and-conquer and search.\n",
    "* The exercises are roughly given by increasing difficulty. Obtaining a 110% mark may be very hard, depending on your background, and will probably take many hours. The assignment is written such that everyone can correctly complete the first exercises, but it is likely that the last ones will only be succesfully completed by few. If your mark exceeds 100, the extra points will be counted towards Assignment 2, for a maximum of 100 marks.\n",
    "* The expected deliverable is this Jupyter Notebook, completed with your answers.\n",
    "* For questions on this assigment, please use the Moodle forum https://moodle.vle.monash.edu/mod/forum/view.php?id=4764773.\n",
    "* The deadline is April 20, 23:55 via Moodle: https://moodle.vle.monash.edu/course/view.php?id=42910&section=5. If this does not work, and only in this case, send your Notebook to pierre.lebodic@monash.edu.\n",
    "* The late penalty is 10 marks (deducted from your original mark) per late day."
   ]
  },
  {
   "cell_type": "markdown",
   "metadata": {},
   "source": [
    "# Exercise 1: Recursive sequence (10%)"
   ]
  },
  {
   "cell_type": "markdown",
   "metadata": {},
   "source": [
    "We have previously worked on the famous Fibonacci sequence: https://en.wikipedia.org/wiki/Fibonacci_number.  \n",
    "In this exercise we define a similar recursive sequence:\n",
    "$F_{n}=2 F_{n-2} + F_{n - 3}$.  \n",
    "The initial values of the sequence are defined as:  \n",
    "$F_{0} = 3,$  \n",
    "$F_{1} = 5,$  \n",
    "$F_{2} = 8.$  \n",
    "We ask that you write a recursive function which computes $F_{n}$ (if $n$ is a non-negative integer) using a Python list $l$ for memoisation. Please use *exactly* the prototype given below. Iterative functions and recursive functions without memoisation will *not* be accepted."
   ]
  },
  {
   "cell_type": "code",
   "execution_count": 117,
   "metadata": {},
   "outputs": [],
   "source": [
    "def F(n, l = None):\n",
    "    if l == None:\n",
    "        l = [None] * (max(3, n+1))\n",
    "        l[0] = 3\n",
    "        l[1] = 5\n",
    "        l[2] = 8\n",
    "    if l[n] is None:\n",
    "        l[n] = 2 * F(n-2, l)+F(n-3, l)\n",
    "    return l[n]"
   ]
  },
  {
   "cell_type": "markdown",
   "metadata": {},
   "source": [
    "Here provide some values of $F$ in the assertions below for you to check the correctness of your code:"
   ]
  },
  {
   "cell_type": "code",
   "execution_count": 118,
   "metadata": {},
   "outputs": [],
   "source": [
    "values = {0:3, 2:8, 5:34, 10:377, 15:4181, 20:46368, 25:514229, 30:5702887}\n",
    "for i, f in values.items():\n",
    "    assert F(i) == f, \\\n",
    "        \"The function computed F({}) = {} instead of {}\" \\\n",
    "        .format(i, F(i), f)"
   ]
  },
  {
   "cell_type": "markdown",
   "metadata": {},
   "source": [
    "*Remark:* if the tests above fail because the maximum recursion depth has been exceeded, your use of the list $l$ for memoisation may be incorrect."
   ]
  },
  {
   "cell_type": "markdown",
   "metadata": {},
   "source": [
    "# Exercise 2: Algorithm analysis (15%)"
   ]
  },
  {
   "cell_type": "markdown",
   "metadata": {},
   "source": [
    "Consider the following function in Python, where $n$ is a positive integer."
   ]
  },
  {
   "cell_type": "code",
   "execution_count": 96,
   "metadata": {},
   "outputs": [],
   "source": [
    "def e_approx(n, i=1):\n",
    "    \n",
    "    if i == n:\n",
    "        return 1 + 1/n\n",
    "    else:\n",
    "        return 1 + e_approx(n , i + 1)/i"
   ]
  },
  {
   "cell_type": "code",
   "execution_count": 97,
   "metadata": {},
   "outputs": [
    {
     "data": {
      "text/plain": [
       "2.5"
      ]
     },
     "execution_count": 97,
     "metadata": {},
     "output_type": "execute_result"
    }
   ],
   "source": [
    "e_approx(2, i=1)"
   ]
  },
  {
   "cell_type": "markdown",
   "metadata": {},
   "source": [
    "## Question 2.1 (10%)\n",
    "What is the $O()$ complexity of this function? Justify your answer."
   ]
  },
  {
   "cell_type": "markdown",
   "metadata": {},
   "source": [
    "Answer:  \n",
    "At every recursive call, 2 operations (line 3 or 5) are required. This function makes (n-1)\n",
    "recursive calls, where n is a positive integer. Therefore, the time function is $2*(n-1)$ and the overall complexity is $O(n)$."
   ]
  },
  {
   "cell_type": "markdown",
   "metadata": {},
   "source": [
    "## Question 2.2 (5%)\n",
    "What does this function compute? (hint: it’s related to a mathematical constant)."
   ]
  },
  {
   "cell_type": "markdown",
   "metadata": {},
   "source": [
    "Answer:  \n",
    "It computes a mathematical constant $e = 1/1 + 1/1 + 1/(1*2) + 1/(1*2*3) + ..... + 1/(1*2*3*......*n)$, where n is a positive integer."
   ]
  },
  {
   "cell_type": "markdown",
   "metadata": {},
   "source": [
    "# Exercise 3: Algorithms comparison (20%)"
   ]
  },
  {
   "cell_type": "markdown",
   "metadata": {},
   "source": [
    "Suppose you must choose one of the three algorithms:\n",
    "* Algorithm A solves problems of size $n$ by dividing them into 9 subproblems of size $n/3$, recursively solving each\n",
    "problem, and then combining solutions in $O(n^2)$ time.\n",
    "* Algorithm B solves problems of size $n$ by dividing them into 2 subproblems of size $n − 1$, recursively solving each\n",
    "problem, and then combining solutions in $O(1)$ time.\n",
    "* Algorithm C solves problems of size $n$ by dividing them into 5 subproblems of size $n/2$, recursively solving each\n",
    "problem, and then combining solutions in $O(n)$ time."
   ]
  },
  {
   "cell_type": "markdown",
   "metadata": {},
   "source": [
    "## Question 3.1 (15%)\n",
    "What is the running time of each algorithm in $O()$ notation? (You may use the master theorem)."
   ]
  },
  {
   "cell_type": "markdown",
   "metadata": {},
   "source": [
    "Answer:  \n",
    "The Master Theorem represents the running times of these algorithms as $T(n) = aT(\\frac{n}{b}) + O(n^d)$, for some values of $a, b$ and $d$.  \n",
    "Case 1: if $a < b^d$ => $T(n) = O(n^d)$  \n",
    "Case 2: if $a = b^d$ => $T(n) = O(n^d\\log{n})$  \n",
    "Case 3: if $a > b^d$ => $T(n) = O(n^{\\log_ba})$  "
   ]
  },
  {
   "cell_type": "markdown",
   "metadata": {},
   "source": [
    "For A, Master Theorem can be applied. $a=9$, $b=3$, and $d=2$. I have $9 = 3^2$ (Case 2), the running time is in $O(n^{2} \\log{n})$."
   ]
  },
  {
   "cell_type": "markdown",
   "metadata": {},
   "source": [
    "For B, I cannot apply the Master Theorem, as the size of the subproblem does not have the form $\\frac{n}{b}$. I use telescoping:  \n",
    "$T(n) = 2*T(n-1) + O(1)$  \n",
    "Replace $T(n-1)$ with $T(n-1) = 2*T(n-2) + O(1)$  \n",
    "$T(n) = 2*(2*T(n-2) + O(1)) + O(1)$  \n",
    "Replace $T(n-2)$ with $T(n-2) = 2*T(n-3) + O(1)$  \n",
    "$T(n) = 2*(2*(2*T(n-3) + O(1)) + O(1)) + O(1)$  \n",
    "...  \n",
    "$T(n) = 2*(2*...(2*(2*T(0) + O(1)) + O(1))... + O(1)) + O(1)$  \n",
    "$T(0) = 0$ is the base case  \n",
    "I can obtain  \n",
    "$T(n) = 2^{n-1}*O(1) + 2^{n-2}*O(1) + ... + 2^{1}*O(1) + 2^{0}*O(1)$  \n",
    "$T(n) = (2^{n-1} + 2^{n-2} + ... + 2^{1} + 2^{0})*O(1)$  \n",
    "$T(n) = (2^{n} - 1)*O(1)$  \n",
    "$T(n) = O(2^n)$  "
   ]
  },
  {
   "cell_type": "markdown",
   "metadata": {},
   "source": [
    "For C, Master Theorem can be applied. $a=5$, $b=2$, and $d=1$. I have $5 > 2^1$ (Case 3), the running time is in $O(n^{\\log_25})$."
   ]
  },
  {
   "cell_type": "markdown",
   "metadata": {},
   "source": [
    "## Question 3.2 (5%)\n",
    "Which algorithm has the best asymptotic running time?"
   ]
  },
  {
   "cell_type": "markdown",
   "metadata": {},
   "source": [
    "Answer:  \n",
    "A: $O(n^{2} \\log{n})$   \n",
    "B: $O(2^n)$    \n",
    "C: $O(n^{\\log_25})$  \n",
    "$O(n^{2} \\log{n})$ < $O(n^{\\log_25})$ < $O(2^n)$  \n",
    "Threfore, algorithm A has the best asymptotic running time."
   ]
  },
  {
   "cell_type": "markdown",
   "metadata": {},
   "source": [
    "# Exercise 4: Recursive approximation (20%)"
   ]
  },
  {
   "cell_type": "markdown",
   "metadata": {},
   "source": [
    "Write a recursive algorithm that computes an approximation of the logarithm of a real number $x \\geq 1$ in a given integer base $b \\geq 2$ using $n$ steps. You can only use the operations $+, -, *, /, **$ (therefore not the $log$ function). The function will recursively compute an interval $[l, u]$ to which $log(x)$ belongs. Please use *exactly* the prototype below. In this prototype,\n",
    "* $n$ indicates the number of steps (or recursive calls),\n",
    "* $x$ the number for which to compute the logarithm,\n",
    "* $b$ the base of the logarithm,\n",
    "* $l$ a proven lower bound of the logarithm,\n",
    "* $u$ a proven uppoer bound of the logarithm."
   ]
  },
  {
   "cell_type": "code",
   "execution_count": 98,
   "metadata": {},
   "outputs": [],
   "source": [
    "def recursivelog(n, x, b, l=None, u=None):\n",
    "    assert( n >= 0)\n",
    "    assert( x >= 1)\n",
    "    assert( isinstance(b, int) )\n",
    "    assert( b >= 2 )\n",
    "    if l == None:\n",
    "        l = 0\n",
    "    if u == None:\n",
    "        u = x\n",
    "    middle = (u+l)/2\n",
    "    if b**middle > x: #log(x) is in [l, middle]\n",
    "        u = middle\n",
    "    else:#log(x) is in [middle, u]\n",
    "        l = middle\n",
    "    if n == 1: #base case \n",
    "        return middle\n",
    "    else:\n",
    "        return recursivelog(n-1, x, b, l, u)"
   ]
  },
  {
   "cell_type": "markdown",
   "metadata": {},
   "source": [
    "Use the cell below for small tests:"
   ]
  },
  {
   "cell_type": "code",
   "execution_count": 99,
   "metadata": {},
   "outputs": [
    {
     "name": "stdout",
     "output_type": "stream",
     "text": [
      "2.0\n",
      "1.0\n"
     ]
    }
   ],
   "source": [
    "print(recursivelog(100, 4, 2))\n",
    "print(recursivelog(100, 10, 10))"
   ]
  },
  {
   "cell_type": "markdown",
   "metadata": {},
   "source": [
    "We test the results below using the function \"isclose\" (see https://docs.python.org/3/library/math.html#math.isclose )"
   ]
  },
  {
   "cell_type": "code",
   "execution_count": 100,
   "metadata": {},
   "outputs": [],
   "source": [
    "import math\n",
    "import random\n",
    "random.seed(0)\n",
    "n = 100\n",
    "ntest = 10\n",
    "\n",
    "for b in range(2, 11):\n",
    "    for _ in range(ntest):\n",
    "        x = random.uniform(1, 10^6)\n",
    "        mylog = recursivelog(n, x, b)\n",
    "        mathlog = math.log(x, b)\n",
    "        assert math.isclose(mylog, mathlog, abs_tol=0.00001), \"for x={0} and b={1}, mylog={2} is not close enough to mathlog={3}\".format(x, b, mylog, mathlog)"
   ]
  },
  {
   "cell_type": "markdown",
   "metadata": {},
   "source": [
    "# Exercise 5: Maximising sublist (25%)"
   ]
  },
  {
   "cell_type": "markdown",
   "metadata": {},
   "source": [
    "Given a list $L = [x_1, \\dots, x_n]$ of $n$ integers, we are interested in sublists $S$ of $L$ that satisfy\n",
    "* for all $i \\in \\{1, \\dots, n-1\\}, x_i \\in S$ implies $x_{i+1} \\not\\in S$,\n",
    "* for all $i \\in \\{2, \\dots, n\\}, x_i \\in S$ implies $x_{i-1} \\not\\in S$.  \n",
    "\n",
    "In other words, two items that are adjacent in the list cannot both be picked in the sublist $S$."
   ]
  },
  {
   "cell_type": "markdown",
   "metadata": {},
   "source": [
    "For simplicity, we suppose that the input list $L$ does not contain repeated values, i.e. $\\forall i, j \\in \\{1, \\dots, n\\}, i \\neq j, x_i \\neq x_j$."
   ]
  },
  {
   "cell_type": "markdown",
   "metadata": {},
   "source": [
    "## Question 5.1 (20%)\n",
    "Write a divide-and-conquer program that outputs a sublist $S$ that maximises $\\sum_{x \\in S} x$, the sum of its elements.\n",
    "For instance, if "
   ]
  },
  {
   "cell_type": "code",
   "execution_count": 101,
   "metadata": {},
   "outputs": [],
   "source": [
    "L = [1, 0, 5, 3, 2, 7, 9, 15, 6, 4, 13]"
   ]
  },
  {
   "cell_type": "markdown",
   "metadata": {},
   "source": [
    "then a sublist with maximum sum is"
   ]
  },
  {
   "cell_type": "code",
   "execution_count": 102,
   "metadata": {},
   "outputs": [],
   "source": [
    " S = [1, 5, 7, 15, 13]"
   ]
  },
  {
   "cell_type": "markdown",
   "metadata": {},
   "source": [
    "Write the function below using <em>exactly</em> this prototype:"
   ]
  },
  {
   "cell_type": "code",
   "execution_count": 103,
   "metadata": {},
   "outputs": [],
   "source": [
    "def bestsublist(l):\n",
    "    sublist = []\n",
    "    #Base case if the size of list is 0\n",
    "    if len(l) == 0:\n",
    "        return sublist\n",
    "    #Base case if the size of list is 1 or 2\n",
    "    elif len(l) <= 2:\n",
    "        maxItem = max(l)\n",
    "        sublist.append(maxItem)\n",
    "        return sublist\n",
    "    #If the size of list is more than 2, I use divide-and-conquer by dividing them into 4 subproblems of size n/2 (n: problem size)\n",
    "    else:\n",
    "        current = []\n",
    "        middle = len(l)//2\n",
    "        current.append(l[middle])\n",
    "        \n",
    "        #If I choose the middle item of the list (current)\n",
    "        left1 = bestsublist(l[:middle-1])\n",
    "        right1 = bestsublist(l[middle+2:])\n",
    "        candidate1 = left1 + current + right1\n",
    "        \n",
    "        #If I don't choose the middle item of the list (current)\n",
    "        left2 = bestsublist(l[:middle])\n",
    "        right2 = bestsublist(l[middle+1:])\n",
    "        candidate2 = left2 + right2\n",
    "        \n",
    "        # Choose the candicate sublist which gives me the maximun summation\n",
    "        if(sum(candidate1)>sum(candidate2)):\n",
    "            sublist = candidate1\n",
    "        else:\n",
    "            sublist = candidate2\n",
    "        \n",
    "#         print (sublist)\n",
    "    return sublist"
   ]
  },
  {
   "cell_type": "markdown",
   "metadata": {},
   "source": [
    "Test your code below:"
   ]
  },
  {
   "cell_type": "code",
   "execution_count": 105,
   "metadata": {},
   "outputs": [],
   "source": [
    "assert sum(bestsublist([])) == 0"
   ]
  },
  {
   "cell_type": "code",
   "execution_count": 106,
   "metadata": {},
   "outputs": [],
   "source": [
    "assert sum(bestsublist([5])) == 5"
   ]
  },
  {
   "cell_type": "code",
   "execution_count": 107,
   "metadata": {},
   "outputs": [],
   "source": [
    "assert sum(bestsublist([5, 2])) == 5"
   ]
  },
  {
   "cell_type": "code",
   "execution_count": 108,
   "metadata": {},
   "outputs": [],
   "source": [
    "assert sum(bestsublist([5, 2, 8])) == 5 + 8"
   ]
  },
  {
   "cell_type": "code",
   "execution_count": 109,
   "metadata": {},
   "outputs": [],
   "source": [
    "assert sum(bestsublist([5, 2, 1, 8])) == 5 + 8"
   ]
  },
  {
   "cell_type": "code",
   "execution_count": 110,
   "metadata": {},
   "outputs": [],
   "source": [
    "assert sum(bestsublist([5, 2, 1, 8, 10])) == 5 + 1 +10"
   ]
  },
  {
   "cell_type": "code",
   "execution_count": 111,
   "metadata": {},
   "outputs": [],
   "source": [
    "assert sum(bestsublist(L)) == sum(S) == 41"
   ]
  },
  {
   "cell_type": "markdown",
   "metadata": {},
   "source": [
    "v1.1: the two assertions below (as well as the original L) have been changed to take into account the additional constraint that input lists should not have repeated values."
   ]
  },
  {
   "cell_type": "code",
   "execution_count": 112,
   "metadata": {},
   "outputs": [],
   "source": [
    "assert sum(bestsublist([max(L) + 1 + i for i in L] + L)) == 172"
   ]
  },
  {
   "cell_type": "code",
   "execution_count": 113,
   "metadata": {},
   "outputs": [],
   "source": [
    "assert sum(bestsublist([max(L) + 1 + i for i in L] + L + [2*(max(L) + 1) + i for i in L])) == 391"
   ]
  },
  {
   "cell_type": "markdown",
   "metadata": {},
   "source": [
    "## Question 5.2 (5%)\n",
    "Give the $O()$ complexity of the function you wrote."
   ]
  },
  {
   "cell_type": "markdown",
   "metadata": {},
   "source": [
    "Answer:  \n",
    "Assume the size of problem is n. I use divide-and-conqure by dividing them into 4 subproblems of size n/2, recursively solving each problem, and then combining solutions in $O(n)$ time.  \n",
    "The Master Theorem can be applied here. It represents the running times as $T(n) = aT(\\frac{n}{b}) + O(n^d)$, for some values of $a, b$ and $d$.  \n",
    "Case 1: if $a < b^d$ => $T(n) = O(n^d)$  \n",
    "Case 2: if $a = b^d$ => $T(n) = O(n^d\\log{n})$  \n",
    "Case 3: if $a > b^d$ => $T(n) = O(n^{\\log_ba})$  \n",
    "In this case, $a=4$, $b=2$, and $d=1$. I have $4 > 2^2$ (Case 3), the running time is in $O(n^{\\log_24})$ = $O(n^2)$."
   ]
  },
  {
   "cell_type": "markdown",
   "metadata": {},
   "source": [
    "Is there an algorithm that does not use the divide-and-conquer paradigm to answer Question 1 and that has a better $O()$ complexity? Prove your answer."
   ]
  },
  {
   "cell_type": "markdown",
   "metadata": {},
   "source": [
    "Answer:  \n",
    "Dynamic programming can solve this problem in $O(n)$. I start from the beginning of list L to the end. For each index, I store the information including the sublist with the maximun summation, which can be used for next index. Therefore, I can get the answer when I reach the last index. The size of list L is n, thus the time complexity is $O(n)$."
   ]
  },
  {
   "cell_type": "markdown",
   "metadata": {},
   "source": [
    "# Exercise 6: Search for a pair of integers in a list (20%)"
   ]
  },
  {
   "cell_type": "markdown",
   "metadata": {},
   "source": [
    "You are given a list $L = [(a_1, b_1), \\dots, (a_n, b_n)]$ of $n$ pairs of integers.\n",
    "For any two pairs $(a_i, b_i) \\in L$ and $(a_j, b_j) \\in L$ such that $1\\leq i \\leq j \\leq n$, we have (at least) one of three cases:\n",
    "* $a_i = a_j$ and $b_i = b_j$\n",
    "* $a_i < a_j$\n",
    "* $b_i < b_j$\n",
    "For example, the list $L=[(1, 2), (1, 1)]$ would not be valid.\n",
    "An example of a valid list is"
   ]
  },
  {
   "cell_type": "code",
   "execution_count": 114,
   "metadata": {},
   "outputs": [],
   "source": [
    "L = [(0,1), (1, 0), (0, 1), (1, 1), (1, 2), (3, 1), (3, 1), (2, 2), (2, 3), (3, 2), (2, 3), (4, 3), (3, 4), (4, 4), (4, 5), (5, 5)]"
   ]
  },
  {
   "cell_type": "markdown",
   "metadata": {},
   "source": [
    "which you can use in your experiments."
   ]
  },
  {
   "cell_type": "markdown",
   "metadata": {},
   "source": [
    "## Question 6.1 (5%):\n",
    "Suppose I know the middle pair $(a, b)$ of the non-empty list $L$, and I am looking for the pair $(x, y)$.\n",
    "In what case(s), if any, can I stop the search?"
   ]
  },
  {
   "cell_type": "markdown",
   "metadata": {},
   "source": [
    "Answer:  \n",
    "I can stop the search in the following situation:  \n",
    "1. The given pair (x,y) matches the middle pair(a,b)\n",
    "2. Recursively call the search function on the right or left or both sides until I find the pair which matches the given pair (x,y)\n",
    "3. I can't find any pair which matches the given pair (x,y) after recursively calling the search function throughout the list L"
   ]
  },
  {
   "cell_type": "markdown",
   "metadata": {},
   "source": [
    "In what case(s), if any, can I determine that $(x, y)$ cannot be found in some part of $L$? Can this speed-up the search?"
   ]
  },
  {
   "cell_type": "markdown",
   "metadata": {},
   "source": [
    "Answer:  \n",
    "After recursively dividing and calling the search function, the sublist will become smaller and smaller. If the size of sublist is 1 and I still can't find the given pair (x,y), then I can determine that (x,y) cannot be found in the list L.  \n",
    "This can speed-up the search if the search doesn't go through both sides for any recursive calls. "
   ]
  },
  {
   "cell_type": "markdown",
   "metadata": {},
   "source": [
    "## Question 6.2 (15%)\n",
    "Write a recursive function that applies the divide-and-conquer paradigm to search if a given pair of values $(x, y)$ is in $L$.\n",
    " The prototype of the function should be <em>exactly</em> as follows:"
   ]
  },
  {
   "cell_type": "code",
   "execution_count": 115,
   "metadata": {},
   "outputs": [],
   "source": [
    "def pair_search(l, p):\n",
    "    found = False\n",
    "    calls = 1\n",
    "    middle = len(l)//2\n",
    "    #Base case if the size of list is 0\n",
    "    if len(l) == 0:\n",
    "        return False, calls\n",
    "    #Base case if the size of list is 1\n",
    "    elif len(l) == 1:\n",
    "        if (p[0] == l[middle][0] and p[1] == l[middle][1]):\n",
    "            return True, calls\n",
    "        else:\n",
    "            return False, calls\n",
    "    #If the size of list is more than 1, I use divide-and-conquer.\n",
    "    else:\n",
    "        #Best case: Given pair is found in the middle of the list\n",
    "        if (p[0] == l[middle][0] and p[1] == l[middle][1]):\n",
    "            return True, calls\n",
    "        #Given pair can only be found on the right \n",
    "        elif (p[0] >= l[middle][0] and p[1] >= l[middle][1]):\n",
    "            found, calls = pair_search(l[middle+1:],p)\n",
    "            calls += 1\n",
    "        #Given pair can only be found on the left \n",
    "        elif (p[0] <= l[middle][0] and p[1] <= l[middle][1]):\n",
    "            found, calls = pair_search(l[:middle],p)\n",
    "            calls += 1\n",
    "        #Given pair can be found on both sides \n",
    "        else:\n",
    "            #Search right side first\n",
    "            foundRight, callsRight = pair_search(l[middle+1:],p)\n",
    "            callsRight += 1\n",
    "            #Initialization for left side search\n",
    "            foundLeft = False\n",
    "            callsLeft = 0\n",
    "            #Worst case: Search left side if the given pair can't be found on right side\n",
    "            if foundRight == False:\n",
    "                foundLeft, callsLeft = pair_search(l[:middle],p)\n",
    "                callsLeft += 1\n",
    "            #Check if the given pair is found\n",
    "            found = foundRight or foundLeft\n",
    "            calls = callsRight + callsLeft\n",
    "#     print (calls)\n",
    "    return found, calls"
   ]
  },
  {
   "cell_type": "markdown",
   "metadata": {},
   "source": [
    "The function returns a boolean to indicate whether the pair $p$ was found in $l$, and an integer $calls$ to indicate the number of calls that were made to $pair\\_search$ to obtain the answer."
   ]
  },
  {
   "cell_type": "markdown",
   "metadata": {},
   "source": [
    "Test your function with the code below."
   ]
  },
  {
   "cell_type": "code",
   "execution_count": 116,
   "metadata": {},
   "outputs": [
    {
     "name": "stdout",
     "output_type": "stream",
     "text": [
      "Found (0, 1) 1 time(s) in 3 calls\n",
      "Found (1, 0) 1 time(s) in 6 calls\n",
      "Found (0, 1) 1 time(s) in 3 calls\n",
      "Found (1, 1) 1 time(s) in 4 calls\n",
      "Found (1, 2) 1 time(s) in 2 calls\n",
      "Found (3, 1) 1 time(s) in 9 calls\n",
      "Found (3, 1) 1 time(s) in 9 calls\n",
      "Found (2, 2) 1 time(s) in 4 calls\n",
      "Found (2, 3) 1 time(s) in 1 calls\n",
      "Found (3, 2) 1 time(s) in 6 calls\n",
      "Found (2, 3) 1 time(s) in 1 calls\n",
      "Found (4, 3) 1 time(s) in 7 calls\n",
      "Found (3, 4) 1 time(s) in 2 calls\n",
      "Found (4, 4) 1 time(s) in 4 calls\n",
      "Found (4, 5) 1 time(s) in 3 calls\n",
      "Found (5, 5) 1 time(s) in 4 calls\n",
      "Found (0, 0) 0 time(s) in 5 calls\n",
      "Found (2, 1) 0 time(s) in 7 calls\n",
      "Found (3, 3) 0 time(s) in 4 calls\n",
      "Found (5, 4) 0 time(s) in 6 calls\n"
     ]
    }
   ],
   "source": [
    "for item in L + [(0, 0), (2, 1), (3, 3), (5, 4)]:\n",
    "    found, calls = pair_search(L, item)\n",
    "    iteminl = item in L\n",
    "    assert found == iteminl, \"Found item {} {} time(s) instead of {}\".format(item, int(found), int(iteminl))\n",
    "    print(\"Found {} {} time(s) in {} calls\".format(item, int(iteminl), calls))"
   ]
  },
  {
   "cell_type": "markdown",
   "metadata": {},
   "source": [
    "What is the worst-case O() complexity of the function you wrote? Prove your answer."
   ]
  },
  {
   "cell_type": "markdown",
   "metadata": {},
   "source": [
    "Answer:  \n",
    "The worst case will occur when each recursive call needs to search both sides.  \n",
    "Assume the size of problem is n. The problem is divided into 2 subproblems of size n/2. Each problem is recursively solved and then combined in $O(n)$ time.  \n",
    "The Master Theorem can be applied here. It represents the running times as $T(n) = aT(\\frac{n}{b}) + O(n^d)$, for some values of $a, b$ and $d$.  \n",
    "Case 1: if $a < b^d$ => $T(n) = O(n^d)$  \n",
    "Case 2: if $a = b^d$ => $T(n) = O(n^d\\log{n})$  \n",
    "Case 3: if $a > b^d$ => $T(n) = O(n^{\\log_ba})$  \n",
    "In this case, $a=2$, $b=2$, and $d=1$. I have $2 = 2^1$ (Case 2), the running time is in $O(n^1\\log{n})$ = $O(n\\log{n})$."
   ]
  },
  {
   "cell_type": "code",
   "execution_count": null,
   "metadata": {},
   "outputs": [],
   "source": []
  }
 ],
 "metadata": {
  "kernelspec": {
   "display_name": "Python [conda env:py36]",
   "language": "python",
   "name": "conda-env-py36-py"
  },
  "language_info": {
   "codemirror_mode": {
    "name": "ipython",
    "version": 3
   },
   "file_extension": ".py",
   "mimetype": "text/x-python",
   "name": "python",
   "nbconvert_exporter": "python",
   "pygments_lexer": "ipython3",
   "version": "3.6.4"
  }
 },
 "nbformat": 4,
 "nbformat_minor": 2
}
