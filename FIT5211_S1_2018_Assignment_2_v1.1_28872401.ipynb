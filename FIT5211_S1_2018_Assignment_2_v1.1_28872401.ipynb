{
 "cells": [
  {
   "cell_type": "markdown",
   "metadata": {},
   "source": [
    "# Instructions\n",
    "* You must work on this assignment individually.\n",
    "* This assignment contributes 20% towards your final mark in FIT5211.\n",
    "* The subjects are sorting, trees and dynamic programming.\n",
    "* The exercises are roughly given by increasing difficulty.\n",
    "* You may create auxiliary/helper functions for each question, as long as you use the pre-defined functions, if any is given.\n",
    "* Unit tests have only been provided for Exercise 1. You will need to write your own tests when they are not provided. \n",
    "* The expected deliverable is this Jupyter Notebook, completed with your answers.\n",
    "* For questions on this assigment, please use the Moodle forum https://moodle.vle.monash.edu/mod/forum/view.php?id=4764773.\n",
    "* The deadline is May 25, 23:55 via Moodle: https://moodle.vle.monash.edu/course/view.php?id=42910&section=5#5. If this does not work, and only in this case, send your Notebook to pierre.lebodic@monash.edu.\n",
    "* The late penalty is 10 marks (deducted from your original mark) per late day"
   ]
  },
  {
   "cell_type": "markdown",
   "metadata": {},
   "source": [
    "# Exercise 1: Sorting Lists of Pairs (50 marks)"
   ]
  },
  {
   "cell_type": "markdown",
   "metadata": {},
   "source": [
    "(Note that in this exercise, questions may be attempted without having completed all previous questions)"
   ]
  },
  {
   "cell_type": "markdown",
   "metadata": {},
   "source": [
    "Consider the abstract Python class below:"
   ]
  },
  {
   "cell_type": "code",
   "execution_count": 1,
   "metadata": {},
   "outputs": [],
   "source": [
    "class Comparison:\n",
    "    def __init__(self):\n",
    "        pass\n",
    "    \n",
    "    #returns True if the two objects are comparable,\n",
    "    #False otherwise\n",
    "    def areComparable(self, other):\n",
    "        raise Exception(\"NotImplementedException\")\n",
    "        \n",
    "    #returns True if the two objects are equal,\n",
    "    #False otherwise\n",
    "    def __eq__(self, other):\n",
    "        raise Exception(\"NotImplementedException\")\n",
    "   \n",
    "    #returns True if self > other,\n",
    "    #False otherwise\n",
    "    def __gt__(self, other):\n",
    "        raise Exception(\"NotImplementedException\")\n",
    "        \n",
    "    #returns True if self < other,\n",
    "    #False otherwise\n",
    "    def __lt__(self, other):\n",
    "        raise Exception(\"NotImplementedException\")    \n",
    "        \n",
    "    def __ne__(self, other):\n",
    "        return not self.__eq__(other)\n",
    "                \n",
    "    def __ge__(self, other):\n",
    "        return self.__eq__(other) or self.__gt__(other)\n",
    "\n",
    "    def __le__(self, other):\n",
    "        return self.__eq__(other) or self.__lt__(other)\n",
    "        \n",
    "    def compare(self, other):\n",
    "        if self.areComparable(other) is False:\n",
    "            return None\n",
    "        elif self == other:\n",
    "            return 0\n",
    "        elif self < other:\n",
    "            return -1\n",
    "        elif self > other:\n",
    "            return 1\n",
    "        else:\n",
    "            assert False, \"Inconsistent operation definitions\""
   ]
  },
  {
   "cell_type": "markdown",
   "metadata": {},
   "source": [
    "The Comparison class provides a way to model items that are not always comparable. For instance, the pair of integers $(5, 10)$ is greater than $(4, 8)$, but it is not comparable to $(6, 5)$, because $5 < 6$ and $10 > 5$."
   ]
  },
  {
   "cell_type": "markdown",
   "metadata": {},
   "source": [
    "In this exercise, we will look into different ways to sort list of pairs. We will suppose that the pairs in a list are all different.  "
   ]
  },
  {
   "cell_type": "markdown",
   "metadata": {},
   "source": [
    "## Question 1.1 (10 marks)"
   ]
  },
  {
   "cell_type": "markdown",
   "metadata": {},
   "source": [
    "The rules of comparison between two Pairs $(a, b)$ and $(c, d)$ are:\n",
    "* $(a, b) == (c, d)$ if and only if $a == c$ and $b == d$,\n",
    "* $(a, b) > (c, d)$ if and only if ($a > c$ and $b \\geq d$) or ($a \\geq c$ and $b > d$),\n",
    "* $(a, b) < (c, d)$ if and only if ($a < c$ and $b \\leq d$) or ($a \\leq c$ and $b < d$).\n",
    "\n",
    "We say that $(a, b)$ and $(c, d)$ are comparable if \n",
    "* $(a, b) == (c, d)$, or\n",
    "* $(a, b) > (c, d)$, or\n",
    "* $(a, b) < (c, d)$.\n",
    "\n",
    "We ask that you implement the rules above in the class called Pair below, by completing the functions that have a comment \"#TODO\" in the body. Note that the class Pair inherits from Comparison."
   ]
  },
  {
   "cell_type": "code",
   "execution_count": 2,
   "metadata": {},
   "outputs": [],
   "source": [
    "class Pair(Comparison):\n",
    "    def __init__(self, x, y):\n",
    "        self.x = x\n",
    "        self.y = y\n",
    "    \n",
    "    def __str__(self):\n",
    "        return \"({},{})\".format(self.x, self.y)\n",
    "        \n",
    "    def areComparable(self, other):\n",
    "        if (self == other) or (self > other) or (self < other):\n",
    "            return True\n",
    "        else:\n",
    "            return False\n",
    "        \n",
    "    def __eq__(self, other):\n",
    "        if (self.x == other.x) and (self.y == other.y):\n",
    "            return True\n",
    "        else: \n",
    "            return False\n",
    "    \n",
    "    def __gt__(self, other):\n",
    "        if ((self.x > other.x) and (self.y >= other.y)) or ((self.x >= other.x) and (self.y > other.y)):\n",
    "            return True\n",
    "        else: \n",
    "            return False\n",
    "        \n",
    "    def __lt__(self, other):\n",
    "        if ((self.x < other.x) and (self.y <= other.y)) or ((self.x <= other.x) and (self.y < other.y)):\n",
    "            return True\n",
    "        else: \n",
    "            return False"
   ]
  },
  {
   "cell_type": "markdown",
   "metadata": {},
   "source": [
    "We provide a test class below. You don't need to edit it, but the class Pair you write need pass these tests! "
   ]
  },
  {
   "cell_type": "code",
   "execution_count": 3,
   "metadata": {},
   "outputs": [],
   "source": [
    "import unittest\n",
    "\n",
    "class TestPair(unittest.TestCase):\n",
    "    def setUp(self):\n",
    "        self.v00 = Pair(0,0)\n",
    "        self.v01 = Pair(0,1)\n",
    "        self.v10 = Pair(1, 0)\n",
    "        self.v11 = Pair(1, 1)\n",
    "        self.v21 = Pair(2, 1)\n",
    "        self.v31 = Pair(3, 1)\n",
    "        self.v23 = Pair(2, 3)\n",
    "        self.v23other = Pair(2, 3)\n",
    "        \n",
    "    def test_areComparable(self):\n",
    "        self.assertTrue(self.v00.areComparable(self.v01))\n",
    "        self.assertTrue(self.v01.areComparable(self.v00))\n",
    "        \n",
    "        self.assertTrue(self.v11.areComparable(self.v00))\n",
    "        self.assertTrue(self.v00.areComparable(self.v11))\n",
    "        \n",
    "        self.assertTrue(self.v21.areComparable(self.v23))\n",
    "        self.assertTrue(self.v23.areComparable(self.v21))\n",
    "        \n",
    "        self.assertTrue(self.v23.areComparable(self.v23))\n",
    "        \n",
    "        self.assertTrue(self.v23.areComparable(self.v23other))\n",
    "        self.assertTrue(self.v23other.areComparable(self.v23))\n",
    "        \n",
    "        self.assertFalse(self.v01.areComparable(self.v10))\n",
    "        self.assertFalse(self.v10.areComparable(self.v01))\n",
    "        \n",
    "        self.assertFalse(self.v31.areComparable(self.v23))\n",
    "        self.assertFalse(self.v23.areComparable(self.v31))\n",
    "        \n",
    "    def test_eq(self):\n",
    "        self.assertTrue(self.v00 == self.v00)\n",
    "        self.assertTrue(self.v21 == self.v21)\n",
    "        self.assertTrue(self.v23 == self.v23)\n",
    "        self.assertTrue(self.v23 == self.v23other)\n",
    "        \n",
    "        self.assertFalse(self.v00 == self.v11)\n",
    "        self.assertFalse(self.v21 == self.v11)\n",
    "        self.assertFalse(self.v21 == self.v23)\n",
    "        \n",
    "    def test_ne(self):\n",
    "        self.assertFalse(self.v00 != self.v00)\n",
    "        self.assertFalse(self.v21 != self.v21)\n",
    "        self.assertFalse(self.v23 != self.v23)\n",
    "        self.assertFalse(self.v23 != self.v23other)\n",
    "        \n",
    "        self.assertTrue(self.v00 != self.v11)\n",
    "        self.assertTrue(self.v21 != self.v11)\n",
    "        self.assertTrue(self.v21 != self.v23)\n",
    "        \n",
    "    def test_gt(self):\n",
    "        self.assertTrue(self.v01 > self.v00)\n",
    "        self.assertTrue(self.v10 > self.v00)\n",
    "        self.assertTrue(self.v31 > self.v21)\n",
    "        \n",
    "        self.assertFalse(self.v00 > self.v01)\n",
    "        self.assertFalse(self.v00 > self.v01)\n",
    "        self.assertFalse(self.v21 > self.v31)\n",
    "        \n",
    "        self.assertFalse(self.v10 > self.v01)\n",
    "        self.assertFalse(self.v01 > self.v10)\n",
    "        self.assertFalse(self.v31 > self.v23)\n",
    "        self.assertFalse(self.v23 > self.v31)\n",
    "        \n",
    "    def test_lt(self):\n",
    "        self.assertFalse(self.v01 < self.v00)\n",
    "        self.assertFalse(self.v10 < self.v00)\n",
    "        self.assertFalse(self.v31 < self.v21)\n",
    "        \n",
    "        self.assertTrue(self.v00 < self.v01)\n",
    "        self.assertTrue(self.v00 < self.v01)\n",
    "        self.assertTrue(self.v21 < self.v31)\n",
    "        \n",
    "        self.assertFalse(self.v10 < self.v01)\n",
    "        self.assertFalse(self.v01 < self.v10)\n",
    "        self.assertFalse(self.v31 < self.v23)\n",
    "        self.assertFalse(self.v23 < self.v31)"
   ]
  },
  {
   "cell_type": "code",
   "execution_count": 4,
   "metadata": {},
   "outputs": [
    {
     "name": "stderr",
     "output_type": "stream",
     "text": [
      ".....\n",
      "----------------------------------------------------------------------\n",
      "Ran 5 tests in 0.018s\n",
      "\n",
      "OK\n"
     ]
    },
    {
     "data": {
      "text/plain": [
       "<unittest.runner.TextTestResult run=5 errors=0 failures=0>"
      ]
     },
     "execution_count": 4,
     "metadata": {},
     "output_type": "execute_result"
    }
   ],
   "source": [
    "test = TestPair()\n",
    "suite = unittest.TestLoader().loadTestsFromModule(test)\n",
    "unittest.TextTestRunner().run(suite)"
   ]
  },
  {
   "cell_type": "markdown",
   "metadata": {},
   "source": [
    "In the following questions, we suppose that we have a set of Pairs, and that not every two pairs in that set are comparable."
   ]
  },
  {
   "cell_type": "markdown",
   "metadata": {},
   "source": [
    "## Question 1.2 (10 marks)"
   ]
  },
  {
   "cell_type": "markdown",
   "metadata": {},
   "source": [
    "Given a list $l$ of Pairs in no particular order, use a sorting algorithm similar to *selection sort* to sort $l$ such that, at the end of the algorithm, for every two pairs $l[i]=(a, b)$ and $l[j]=(c, d)$ at index $i$ and $j$ in $l$, respectively, with $i <j$, we have:\n",
    "* either $(a, b) \\leq (c, d)$,\n",
    "* or $(a, b)$ and $(c, d)$ are not comparable."
   ]
  },
  {
   "cell_type": "code",
   "execution_count": 5,
   "metadata": {},
   "outputs": [],
   "source": [
    "def pairSort(l):\n",
    "    for fillslot in range(len(l)-1,0,-1):\n",
    "        positionOfMax=0\n",
    "        for location in range(1,fillslot+1):\n",
    "            if l[location]>l[positionOfMax]:\n",
    "                positionOfMax = location\n",
    "        l[fillslot],  l[positionOfMax] = l[positionOfMax], l[fillslot]"
   ]
  },
  {
   "cell_type": "markdown",
   "metadata": {},
   "source": [
    "Again, we provide a test class below. You don't need to edit it, but the method pairsort you wrote needs to pass these tests! "
   ]
  },
  {
   "cell_type": "code",
   "execution_count": 6,
   "metadata": {},
   "outputs": [],
   "source": [
    "import unittest\n",
    "import random\n",
    "\n",
    "class TestPairSort(unittest.TestCase):\n",
    "    def setUp(self):\n",
    "        self.PairClass = Pair\n",
    "        self.sortAlgo = pairSort\n",
    "    \n",
    "    def test1(self):\n",
    "        #in this test we suppose x=0 for all entries\n",
    "        #this means that the algorithm should do a regular bubble sort\n",
    "        #we also suppose everything is already ordered\n",
    "        l = [self.PairClass(0, 1), self.PairClass(0, 3), self.PairClass(0, 4), self.PairClass(0, 6), \n",
    "            self.PairClass(0, 8), self.PairClass(0, 15), ]\n",
    "        self.sortAlgo(l)\n",
    "        #for item in l: print(item)\n",
    "        self.checkorder(l)\n",
    "            \n",
    "    def test2(self):\n",
    "        #in this test we suppose x=0 for all entries\n",
    "        #this means that the sort algorithms should do a \"regular\" sort\n",
    "        l = [self.PairClass(0, 8), self.PairClass(0, 4), self.PairClass(0, 3), self.PairClass(0, 9), \n",
    "            self.PairClass(0, 10), self.PairClass(0, 5), ]\n",
    "        self.sortAlgo(l)\n",
    "        #for item in sortedl: print(item)\n",
    "        self.checkorder(l)\n",
    "\n",
    "            \n",
    "    def test3(self):\n",
    "        #in this test we suppose x and y are not fixed\n",
    "        #we also suppose that everything is in a good order\n",
    "        l = [self.PairClass(5, 8), self.PairClass(5, 10), self.PairClass(6, 10), self.PairClass(7, 12), \n",
    "            self.PairClass(5, 12), self.PairClass(9, 12), ]\n",
    "        sortedl = self.sortAlgo(l)\n",
    "        #for item in sortedl: print(item)\n",
    "        self.checkorder(l)\n",
    "        \n",
    "    def test4(self):\n",
    "        #in this test we suppose x and y are not fixed\n",
    "        #we suppose there is no two pairs that are comparable\n",
    "        l = [self.PairClass(8, 8), self.PairClass(5, 10), self.PairClass(10, 8), self.PairClass(12, 5)]\n",
    "        self.sortAlgo(l)\n",
    "        #for item in l: print(item)\n",
    "        self.checkorder(l)\n",
    "        \n",
    "    def test5(self):\n",
    "        #in this test we suppose x and y are not fixed\n",
    "        #the input is in arbitrary order\n",
    "        #we only test one case\n",
    "        l = [self.PairClass(5, 8), self.PairClass(10, 10), self.PairClass(12, 5), self.PairClass(9, 5),\n",
    "             self.PairClass(5, 10), self.PairClass(7, 2), self.PairClass(6, 10) ]\n",
    "        self.sortAlgo(l)\n",
    "        #for item in l: print(item)\n",
    "        self.checkorder(l)\n",
    "    \n",
    "    def test6(self):\n",
    "        #in this test we suppose x and y are not fixed\n",
    "        #the input is in arbitrary order\n",
    "        #we generate many cases\n",
    "        for size in range(0, 100):\n",
    "            #create a list\n",
    "            l = []\n",
    "            xs = random.sample(range(0, 100), size)\n",
    "            xy = random.sample(range(0, 100), size)\n",
    "            for i in range(0, size):\n",
    "                l.append(self.PairClass(xs[i], xy[i]))\n",
    "            self.sortAlgo(l)\n",
    "            #for item in l: print(item)\n",
    "            self.checkorder(l)\n",
    "        \n",
    "    def checkorder(self, l):\n",
    "        for i in range(0, len(l)-1):\n",
    "            for j in range(i, len(l)-1):\n",
    "                if l[i].areComparable(l[j]):\n",
    "                    self.assertTrue(l[i] <= l[j], \"{} and {} are not well ordered\".format(l[i], l[j]) )"
   ]
  },
  {
   "cell_type": "code",
   "execution_count": 7,
   "metadata": {},
   "outputs": [
    {
     "name": "stderr",
     "output_type": "stream",
     "text": [
      "......\n",
      "----------------------------------------------------------------------\n",
      "Ran 6 tests in 0.931s\n",
      "\n",
      "OK\n"
     ]
    },
    {
     "data": {
      "text/plain": [
       "<unittest.runner.TextTestResult run=6 errors=0 failures=0>"
      ]
     },
     "execution_count": 7,
     "metadata": {},
     "output_type": "execute_result"
    }
   ],
   "source": [
    "test = TestPairSort()\n",
    "suite = unittest.TestLoader().loadTestsFromModule(test)\n",
    "unittest.TextTestRunner().run(suite)"
   ]
  },
  {
   "cell_type": "markdown",
   "metadata": {},
   "source": [
    "## Question 1.3 (5 marks)"
   ]
  },
  {
   "cell_type": "markdown",
   "metadata": {},
   "source": [
    "Suppose we have a list of Pairs of integers.\n",
    "We want to implement a comparison mechanism between two pairs of integers using a function **pairKey**, which takes a pair as input and outputs a single number. The function pairKey should be such that for two pairs $(a, b)$ and $(c, d)$,\n",
    "* $(a,b) > (c,d)$ implies $pairKey((a,b)) > pairKey((c,d))$,\n",
    "* $(a,b) < (c,d)$ implies $pairKey((a,b)) < pairKey((c,d))$,\n",
    "* $(a,b) == (c,d)$ implies $pairKey((a,b)) == pairKey((c,d))$."
   ]
  },
  {
   "cell_type": "code",
   "execution_count": 8,
   "metadata": {},
   "outputs": [],
   "source": [
    "def pairKey(self):\n",
    "    output = self.x + self.y\n",
    "    return output"
   ]
  },
  {
   "cell_type": "markdown",
   "metadata": {},
   "source": [
    "If you have defined the function pairKey correctly, we should now be able to use the built-in sort function of Python to sort our Pairs:"
   ]
  },
  {
   "cell_type": "code",
   "execution_count": 9,
   "metadata": {},
   "outputs": [],
   "source": [
    "def pairSortWithKey(l):\n",
    "    l.sort(key = pairKey)"
   ]
  },
  {
   "cell_type": "markdown",
   "metadata": {},
   "source": [
    "(For more information on what the above does, please refer to https://docs.python.org/3/howto/sorting.html)"
   ]
  },
  {
   "cell_type": "code",
   "execution_count": 10,
   "metadata": {},
   "outputs": [],
   "source": [
    "class TestKeyPairSort(TestPairSort):\n",
    "    def setUp(self):\n",
    "        self.PairClass = Pair\n",
    "        self.sortAlgo = pairSortWithKey"
   ]
  },
  {
   "cell_type": "code",
   "execution_count": 11,
   "metadata": {},
   "outputs": [
    {
     "name": "stderr",
     "output_type": "stream",
     "text": [
      "......\n",
      "----------------------------------------------------------------------\n",
      "Ran 6 tests in 0.777s\n",
      "\n",
      "OK\n"
     ]
    },
    {
     "data": {
      "text/plain": [
       "<unittest.runner.TextTestResult run=6 errors=0 failures=0>"
      ]
     },
     "execution_count": 11,
     "metadata": {},
     "output_type": "execute_result"
    }
   ],
   "source": [
    "test = TestKeyPairSort()\n",
    "suite = unittest.TestLoader().loadTestsFromModule(test)\n",
    "unittest.TextTestRunner().run(suite)"
   ]
  },
  {
   "cell_type": "markdown",
   "metadata": {},
   "source": [
    "## Question 1.4 (5 marks)"
   ]
  },
  {
   "cell_type": "markdown",
   "metadata": {},
   "source": [
    "Prove that the pairKey function you have defined above provides a guarantee that, if used as key for Python's sort, then the list will be sorted as stated in Queston 1.2."
   ]
  },
  {
   "cell_type": "markdown",
   "metadata": {},
   "source": [
    "Answer: I set pairKey = pair.x + pair.y. For example, if pair A = (2,1), then pairKey = 2 + 1 = 3.  \n",
    "\n",
    "Case 1: If $pairKey((a,b)) > pairKey((c,d))$, we have:\n",
    "* either $(a, b) > (c, d)$, e.g. (a,b) = (2,1) and (c,d) = (2,0)\n",
    "* or $(a, b)$ and $(c, d)$ are not comparable, e.g. (a,b) = (2,1) and (c,d) = (0,2)\n",
    "\n",
    "Case 2: If $pairKey((a,b)) < pairKey((c,d))$, we have:\n",
    "* either $(a, b) < (c, d)$, e.g. (a,b) = (2,1) and (c,d) = (2,2)\n",
    "* or $(a, b)$ and $(c, d)$ are not comparable, e.g. (a,b) = (2,1) and (c,d) = (1,3)\n",
    "\n",
    "Case 3: If $pairKey((a,b)) = pairKey((c,d))$, we have:\n",
    "* either $(a, b) = (c, d)$, e.g. (a,b) = (2,1) and (c,d) = (2,1)\n",
    "* or $(a, b)$ and $(c, d)$ are not comparable, e.g. (a,b) = (2,1) and (c,d) = (1,2)\n",
    "\n",
    "When I use pairKey as the key for Python's sort, I can get the following result according to case 2 and 3 above.  \n",
    "For every two pairs $l[i]=(a, b)$ and $l[j]=(c, d)$ at index $i$ and $j$ in $l$, respectively, with $i <j$, we have:\n",
    "* either $(a, b) \\leq (c, d)$,\n",
    "* or $(a, b)$ and $(c, d)$ are not comparable.\n",
    "\n",
    "Therefore, the list will be sorted as stated in Queston 1.2 if pairKey is used as the key for Python's sort."
   ]
  },
  {
   "cell_type": "markdown",
   "metadata": {},
   "source": [
    "## Question 1.5 (5 marks)"
   ]
  },
  {
   "cell_type": "markdown",
   "metadata": {},
   "source": [
    "(We have *not* covered the concept of stability in this unit. If you are not yet familiar with this concept, learning about it is part of the question.)\n",
    "\n",
    "Use the fact that Python's sort is stable to provide a simple solution to sort a list of pairs as stated in Question 1.2. Use unit testing as in the previous questions to test your solution. Both your solution and the unit testing will be assessed. (no need to rewrite *new* test cases; use the old ones)."
   ]
  },
  {
   "cell_type": "code",
   "execution_count": 12,
   "metadata": {},
   "outputs": [],
   "source": [
    "def pairSortUsingStability(l):\n",
    "    from operator import itemgetter, attrgetter\n",
    "#     sorted(l, key=attrgetter('x', 'y'))\n",
    "    l.sort(key=attrgetter('x', 'y'))"
   ]
  },
  {
   "cell_type": "code",
   "execution_count": 13,
   "metadata": {},
   "outputs": [],
   "source": [
    "class TestPairSortUsingStability(TestPairSort):\n",
    "    def setUp(self):\n",
    "        self.PairClass = Pair\n",
    "        self.sortAlgo = pairSortUsingStability"
   ]
  },
  {
   "cell_type": "code",
   "execution_count": 14,
   "metadata": {},
   "outputs": [
    {
     "name": "stderr",
     "output_type": "stream",
     "text": [
      "......\n",
      "----------------------------------------------------------------------\n",
      "Ran 6 tests in 0.578s\n",
      "\n",
      "OK\n"
     ]
    },
    {
     "data": {
      "text/plain": [
       "<unittest.runner.TextTestResult run=6 errors=0 failures=0>"
      ]
     },
     "execution_count": 14,
     "metadata": {},
     "output_type": "execute_result"
    }
   ],
   "source": [
    "test = TestPairSortUsingStability()\n",
    "suite = unittest.TestLoader().loadTestsFromModule(test)\n",
    "unittest.TextTestRunner().run(suite)"
   ]
  },
  {
   "cell_type": "markdown",
   "metadata": {},
   "source": [
    "## Question 1.6 (10 marks)"
   ]
  },
  {
   "cell_type": "markdown",
   "metadata": {},
   "source": [
    "Define a function pairSortFast that takes a list $l$ of $n$ Pairs as input and sort this list in $O(n)$ time in the worst case (not the amortised worst case). Suppose that any pair $(a,b)$ in $l$ is such that $a$ and $b \\in \\{0, \\dots, U\\}$, where $U$ is a small integer. Hint: *a clever hashing function* may help."
   ]
  },
  {
   "cell_type": "code",
   "execution_count": 15,
   "metadata": {},
   "outputs": [],
   "source": [
    "def pairSortFast(l):\n",
    "\n",
    "    sorted_list = []\n",
    "    l_length = len(l)\n",
    "    max_key = 0\n",
    "    \n",
    "    # Create hash table\n",
    "    for i in range(l_length):\n",
    "        key = pairKey(l[i])\n",
    "        if key > max_key:\n",
    "            max_key = key      \n",
    "    hash_table = [[]]*(max_key+1)\n",
    "    \n",
    "    # put pair into hash table based on pairkey value\n",
    "    for j in range(l_length):\n",
    "        key = pairKey(l[j])\n",
    "        hash_table[key] = hash_table[key] + [l[j]]\n",
    "    \n",
    "    # move item from hash table to sorted list\n",
    "    for k in range(len(hash_table)):\n",
    "        sorted_list = sorted_list + hash_table[k]\n",
    "\n",
    "    # move item from sorted list to original list\n",
    "    for z in range(len(sorted_list)):\n",
    "        l[z] = sorted_list[z]\n"
   ]
  },
  {
   "cell_type": "code",
   "execution_count": 16,
   "metadata": {},
   "outputs": [],
   "source": [
    "class TestPairSortFast(TestPairSort):\n",
    "    def setUp(self):\n",
    "        self.PairClass = Pair\n",
    "        self.sortAlgo = pairSortFast"
   ]
  },
  {
   "cell_type": "code",
   "execution_count": 17,
   "metadata": {
    "scrolled": true
   },
   "outputs": [
    {
     "name": "stderr",
     "output_type": "stream",
     "text": [
      "......\n",
      "----------------------------------------------------------------------\n",
      "Ran 6 tests in 0.566s\n",
      "\n",
      "OK\n"
     ]
    },
    {
     "data": {
      "text/plain": [
       "<unittest.runner.TextTestResult run=6 errors=0 failures=0>"
      ]
     },
     "execution_count": 17,
     "metadata": {},
     "output_type": "execute_result"
    }
   ],
   "source": [
    "test = TestPairSortFast()\n",
    "suite = unittest.TestLoader().loadTestsFromModule(test)\n",
    "unittest.TextTestRunner().run(suite)"
   ]
  },
  {
   "cell_type": "markdown",
   "metadata": {},
   "source": [
    "## Question 1.7 (5 marks)"
   ]
  },
  {
   "cell_type": "markdown",
   "metadata": {},
   "source": [
    "Thoroughly benchmark all the sorting algorithms you have written, and plot their running time as a function of the size of the input list. You may use methods and code seen in the lectures or tutes and pracs during the semester."
   ]
  },
  {
   "cell_type": "code",
   "execution_count": 20,
   "metadata": {},
   "outputs": [
    {
     "name": "stdout",
     "output_type": "stream",
     "text": [
      "Maximum computing time: 0:00:40\n",
      "Actual computing time: 0:00:02\n"
     ]
    },
    {
     "data": {
      "image/png": "[encoded data removed]",
      "text/plain": [
       "<Figure size 432x288 with 1 Axes>"
      ]
     },
     "metadata": {},
     "output_type": "display_data"
    }
   ],
   "source": [
    "from timeit import default_timer as timer\n",
    "import datetime\n",
    "import random\n",
    "# matplotlib may need to be installed separately\n",
    "import matplotlib.pyplot as plt\n",
    "\n",
    "sorting_algorithms = [pairSort, pairSortWithKey, pairSortUsingStability, pairSortFast]\n",
    "#matplotlib.org/gallery/lines_bars_and_markers/line_styles_reference.html\n",
    "styles = {}\n",
    "styles[pairSort] = \"b--\"\n",
    "styles[pairSortWithKey] = \"y--\"\n",
    "styles[pairSortUsingStability] = \"r--\"\n",
    "styles[pairSortFast] = \"g--\"\n",
    "def generatelist(n, lower = 0, upper = 100, seed = 0):\n",
    "#https://docs.python.org/3/library/random.html\n",
    "    random.seed(seed)\n",
    "    l = [None] * n\n",
    "    for i in range(0,n):\n",
    "        l[i] = Pair(random.randrange(lower, upper), random.randrange(lower, upper))\n",
    "    return l\n",
    "def computeandplot(sorting_algorithms):\n",
    "    step = 100\n",
    "    nsamples = 100\n",
    "    samples = range(0, nsamples)\n",
    "    timelimit = 0.1 #seconds, per run\n",
    "    totaltime = 0\n",
    "    print(\"Maximum computing time:\", \\\n",
    "        str(datetime.timedelta(seconds=\\\n",
    "        timelimit*nsamples*len(sorting_algorithms))))\n",
    "    for sortalgo in sorting_algorithms:\n",
    "        attimelimit = False\n",
    "        times = [timelimit for _ in samples]\n",
    "        for i in samples:\n",
    "            if i == 0:\n",
    "                times[i] = 0\n",
    "                continue\n",
    "            n = step * i\n",
    "            if attimelimit == False:\n",
    "                l = generatelist(n)\n",
    "                start = timer()\n",
    "                sortalgo(l)\n",
    "                end = timer()\n",
    "                times[i] = end - start\n",
    "                totaltime += times[i]\n",
    "                if times[i] > timelimit:\n",
    "                    times[i] = timelimit\n",
    "                    attimelimit = True\n",
    "        plt.plot(samples, times, \\\n",
    "                    styles[sortalgo], \\\n",
    "                    label=sortalgo.__name__)\n",
    "    print(\"Actual computing time:\", str(datetime.timedelta(seconds=int(totaltime))))\n",
    "    plt.legend(bbox_to_anchor=(1.05, 1), loc=2, borderaxespad=0.)\n",
    "    plt.xlabel(\"list size / {}\".format(step))\n",
    "    plt.ylabel(\"time in seconds\")\n",
    "    plt.show()\n",
    "computeandplot(sorting_algorithms)\n"
   ]
  },
  {
   "cell_type": "markdown",
   "metadata": {},
   "source": [
    "# Exercise 2 (25 marks)"
   ]
  },
  {
   "cell_type": "markdown",
   "metadata": {},
   "source": [
    "We are again interested in lists of pairs of integers. However, this time, we want to store these pairs into a rooted tree $T$. More precisely, each node of $T$ will store a pair of $l$. This tree $T$ will have the property that for each inner node $k$ that stores a pair $(a, b)$, the pair $(c, d)$ stored at a node in the subtree of $k$ satisfies $(a, b) \\leq (c, d)$. Furthermore, the pairs stored at sibling nodes must be non-comparable.\n",
    "\n",
    "We will suppose that the root of the tree is a dummy pair $(-1, -1)$.\n",
    "\n",
    "You need to provide a unit test for each question in this exercise where code is required. Each question is evaluated on the correctness of your code and the thoroughness of your unit tests."
   ]
  },
  {
   "cell_type": "markdown",
   "metadata": {},
   "source": [
    "## Question 2.1 (10 marks)"
   ]
  },
  {
   "cell_type": "markdown",
   "metadata": {},
   "source": [
    "Define a class that stores the tree $T$ for any given list of pairs. The \\_\\_init\\_\\_() function must take a list as input and build the tree accordingly. An insert() function must allow the insertion of a pair to an initialised tree. In $O()$, what is the running time complexity of the functions you defined?"
   ]
  },
  {
   "cell_type": "code",
   "execution_count": 135,
   "metadata": {},
   "outputs": [],
   "source": [
    "class TreeNode:\n",
    "    def __init__(self,key,val,children_list=[],parent=None):\n",
    "        self.key = key\n",
    "        self.payload = val\n",
    "        self.children_list = children_list\n",
    "        self.parent = parent\n",
    "\n",
    "    def hasChildren(self):\n",
    "        return self.children_list\n",
    "\n",
    "    def isChildren(self):\n",
    "        return (self.parent) and (self in self.parent.children_list)\n",
    "\n",
    "    def isRoot(self):\n",
    "        return not self.parent\n",
    "\n",
    "    def isLeaf(self):\n",
    "        return not self.children_list"
   ]
  },
  {
   "cell_type": "code",
   "execution_count": 168,
   "metadata": {},
   "outputs": [],
   "source": [
    "class PairTree:\n",
    "\n",
    "    def __init__(self,l):\n",
    "        self.root = TreeNode(pairKey(Pair(-1,-1)),Pair(-1,-1))\n",
    "        self.size = 1\n",
    "        l.sort(key = pairKey)\n",
    "        for i in range(len(l)):\n",
    "            self.put(pairKey(l[i]),l[i])\n",
    "\n",
    "    def length(self):\n",
    "        return self.size\n",
    "\n",
    "    def __len__(self):\n",
    "        return self.size\n",
    "    \n",
    "    def put(self,key,val):\n",
    "        if self.root:\n",
    "            self._put(key,val,self.root)\n",
    "        else:\n",
    "            self.root = TreeNode(key,val)\n",
    "        self.size = self.size + 1\n",
    "\n",
    "    def _put(self,key,val,currentNode):\n",
    "        # Has children\n",
    "        if currentNode.hasChildren():\n",
    "            self._put(key,val,currentNode.children_list[0])\n",
    "        # No children\n",
    "        else:\n",
    "            # Parent are comparable\n",
    "            if val.areComparable(currentNode.payload):\n",
    "                currentNode.children_list = currentNode.children_list + [TreeNode(key,val,parent=currentNode)]\n",
    "            else:\n",
    "                # Check parent until find comparable parent and add the node to this parent's children list\n",
    "                found_comparable_parent = False\n",
    "                parentNode = currentNode.parent\n",
    "                while not found_comparable_parent:\n",
    "                    \n",
    "                    if val.areComparable(parentNode.payload):\n",
    "                        found_comparable_parent = True\n",
    "                    else:\n",
    "                        currentNode = parentNode\n",
    "                        parentNode = currentNode.parent\n",
    "                # After finding comparable parent, check if any of this parent's children are comparable\n",
    "                found_comparable_parent_children = False\n",
    "                childrenIndex = 1\n",
    "                while (not found_comparable_parent_children) and (childrenIndex < len(parentNode.children_list)): \n",
    "                    nextChild = parentNode.children_list[childrenIndex]\n",
    "                    if val.areComparable(nextChild.payload):\n",
    "                        found_comparable_parent_children = True\n",
    "                    else:\n",
    "                        childrenIndex += 1\n",
    "                # if found comparable children\n",
    "                if found_comparable_parent_children:\n",
    "                    self._insert(key,val,parentNode.children_list[childrenIndex])\n",
    "                # not found comparable children\n",
    "                else:\n",
    "                    parentNode.children_list = parentNode.children_list + [TreeNode(key,val,parent=parentNode)]\n",
    "                    \n",
    "    def __setitem__(self,k,v):\n",
    "        self.put(k,v)\n",
    "\n",
    "    def insert(self,key,val):\n",
    "        if self.root:\n",
    "            self._insert(key,val,self.root)\n",
    "        else:\n",
    "            self.root = TreeNode(key,val)\n",
    "        self.size = self.size + 1\n",
    "\n",
    "    def _insert(self,key,val,currentNode):\n",
    "        if val > currentNode.payload or val == currentNode.payload:\n",
    "            # print(\"case 1\")\n",
    "            if currentNode.hasChildren():\n",
    "                self._insert(key,val,currentNode.children_list[0])\n",
    "            else:\n",
    "                currentNode.children_list = currentNode.children_list + [TreeNode(key,val,parent=currentNode)]\n",
    "        elif val < currentNode.payload:\n",
    "            # add note between current and parant node\n",
    "            # print(\"case 2\")\n",
    "            parentNode = currentNode.parent\n",
    "            insertChildrenIndex = 0\n",
    "            for i in range(len(parentNode.children_list)):\n",
    "                if (parentNode.children_list[i].payload == currentNode.payload):\n",
    "                    insertChildrenIndex = i\n",
    "            t = TreeNode(key,val,parent=parentNode)\n",
    "            t.children_list = t.children_list + [currentNode]\n",
    "            parentNode.children_list[insertChildrenIndex] =  t\n",
    "        elif not val.areComparable(currentNode.payload):\n",
    "            # Check parent's children list until find a comparable child\n",
    "            # print(\"case 3\")\n",
    "            found_comparable_parent_children = False\n",
    "            childrenIndex = 1\n",
    "            parentNode = currentNode.parent\n",
    "            while (not found_comparable_parent_children) and (childrenIndex < len(parentNode.children_list)): \n",
    "                nextChild = parentNode.children_list[childrenIndex]\n",
    "                if val.areComparable(nextChild.payload):\n",
    "                    found_comparable_parent_children = True\n",
    "                else:\n",
    "                    childrenIndex += 1\n",
    "            if found_comparable_parent_children:\n",
    "                self._insert(key,val,parentNode.children_list[childrenIndex])\n",
    "            else:\n",
    "                parentNode.children_list = parentNode.children_list + [TreeNode(key,val,parent=parentNode)]\n",
    "\n",
    "\n"
   ]
  },
  {
   "cell_type": "markdown",
   "metadata": {},
   "source": [
    "### Time complexity"
   ]
  },
  {
   "cell_type": "markdown",
   "metadata": {},
   "source": [
    "The time complexity of function __init__ is O(n) because I use sort function first and it dominates the time complexity.  \n",
    "The worst case time complexity of function insert is O(n) because it might compare all the data nodes in the tree."
   ]
  },
  {
   "cell_type": "markdown",
   "metadata": {},
   "source": [
    "### Unit Test"
   ]
  },
  {
   "cell_type": "code",
   "execution_count": 173,
   "metadata": {},
   "outputs": [],
   "source": [
    "import unittest\n",
    "import random\n",
    "\n",
    "class TestPairTree(unittest.TestCase):\n",
    "    def setUp(self):\n",
    "        self.PairClass = Pair\n",
    "        self.PairTreeClass = PairTree\n",
    "                    \n",
    "\n",
    "    def test1(self):\n",
    "        #in this test we suppose x=0 for all entries\n",
    "        #this means that the algorithm should do a regular bubble sort\n",
    "        #we also suppose everything is already ordered\n",
    "        l = [self.PairClass(0, 1), self.PairClass(0, 3), self.PairClass(0, 4), self.PairClass(0, 6), \n",
    "            self.PairClass(0, 8), self.PairClass(0, 15), ]\n",
    "        pairTree = self.PairTreeClass(l)\n",
    "        #for item in l: print(item)\n",
    "        self.checkPairTree(pairTree.root)\n",
    "        #test insert function\n",
    "        pairTree.insert(pairKey(Pair(2,2)),Pair(2,2))\n",
    "        self.checkPairTree(pairTree.root)\n",
    "            \n",
    "    def test2(self):\n",
    "        #in this test we suppose x=0 for all entries\n",
    "        #this means that the sort algorithms should do a \"regular\" sort\n",
    "        l = [self.PairClass(0, 8), self.PairClass(0, 4), self.PairClass(0, 3), self.PairClass(0, 9), \n",
    "            self.PairClass(0, 10), self.PairClass(0, 5), ]\n",
    "        pairTree = self.PairTreeClass(l)\n",
    "        #for item in sortedl: print(item)\n",
    "        self.checkPairTree(pairTree.root)\n",
    "        #test insert function\n",
    "        pairTree.insert(pairKey(Pair(4,1)),Pair(4,1))\n",
    "        self.checkPairTree(pairTree.root)\n",
    "\n",
    "            \n",
    "    def test3(self):\n",
    "        #in this test we suppose x and y are not fixed\n",
    "        #we also suppose that everything is in a good order\n",
    "        l = [self.PairClass(5, 8), self.PairClass(5, 10), self.PairClass(6, 10), self.PairClass(7, 12), \n",
    "            self.PairClass(5, 12), self.PairClass(9, 12), ]\n",
    "        pairTree = self.PairTreeClass(l)\n",
    "        #for item in sortedl: print(item)\n",
    "        self.checkPairTree(pairTree.root)\n",
    "        #test insert function\n",
    "        pairTree.insert(pairKey(Pair(8,1)),Pair(8,1))\n",
    "        self.checkPairTree(pairTree.root)\n",
    "        \n",
    "   \n",
    "    def checkPairTree(self, root1):\n",
    "        if root1.hasChildren():\n",
    "            for i in range(len(root1.children_list)):\n",
    "                # if the children still have children\n",
    "                if root1.children_list[i].hasChildren():\n",
    "                    return self.checkPairTree(root1.children_list[i])\n",
    "                else:\n",
    "                    child = root1.children_list[i].payload\n",
    "                    parent = root1.payload\n",
    "                    self.assertTrue((child > parent) or (child == parent), \"child:{} and parent:{} are not well ordered\".format(child, parent))\n",
    "                    if i < (len(root1.children_list)-1):\n",
    "                        nextChild = root1.children_list[i+1].payload\n",
    "                        self.assertTrue(child.areComparable(nextChild), \"Sibling {} and {} are not well ordered\".format(child, nextChild))     \n"
   ]
  },
  {
   "cell_type": "code",
   "execution_count": 174,
   "metadata": {},
   "outputs": [
    {
     "name": "stderr",
     "output_type": "stream",
     "text": [
      "...\n",
      "----------------------------------------------------------------------\n",
      "Ran 3 tests in 0.005s\n",
      "\n",
      "OK\n"
     ]
    },
    {
     "data": {
      "text/plain": [
       "<unittest.runner.TextTestResult run=3 errors=0 failures=0>"
      ]
     },
     "execution_count": 174,
     "metadata": {},
     "output_type": "execute_result"
    }
   ],
   "source": [
    "test = TestPairTree()\n",
    "suite = unittest.TestLoader().loadTestsFromModule(test)\n",
    "unittest.TextTestRunner().run(suite)"
   ]
  },
  {
   "cell_type": "markdown",
   "metadata": {},
   "source": [
    "## Question 2.2 (5 marks)"
   ]
  },
  {
   "cell_type": "markdown",
   "metadata": {},
   "source": [
    "In the class you have defined in Question 2.1, can there be multiple trees that store the same list of pairs? (including after insertions?). Prove your answer."
   ]
  },
  {
   "cell_type": "markdown",
   "metadata": {},
   "source": [
    "Answer: Based on my implementation, there will be only one tree to store the same list of pairs. It is because I choose the lefest side to add nodes first when I build a tree or insert a node to a initialized tree. However, I can modify my design to build multiple trees. For example, I can choose the rightest side to add or insert nodes. As a result, multiple trees can be built for the same list of pairs."
   ]
  },
  {
   "cell_type": "markdown",
   "metadata": {},
   "source": [
    "## Question 2.3 (5 marks)"
   ]
  },
  {
   "cell_type": "markdown",
   "metadata": {},
   "source": [
    "We now relax the constraint that $T$ must be \"exactly\" a tree. A child node which stores a pair $(c, d)$ must now have as a parent all the nodes that have a pair $(a, b)$ such that $(a,b)\\leq(c,d)$."
   ]
  },
  {
   "cell_type": "markdown",
   "metadata": {},
   "source": [
    "Design a class (it may be based on the previous one) to allow and build this representation."
   ]
  },
  {
   "cell_type": "code",
   "execution_count": null,
   "metadata": {},
   "outputs": [],
   "source": []
  },
  {
   "cell_type": "markdown",
   "metadata": {},
   "source": [
    "## Question 2.4 (5 marks)"
   ]
  },
  {
   "cell_type": "markdown",
   "metadata": {},
   "source": [
    "Using the class written in Question 2.3, design and code an algorithm that traverses all the nodes in that data structure and outputs the stored pairs in sorted order (as defined in Question 1.2)."
   ]
  },
  {
   "cell_type": "code",
   "execution_count": null,
   "metadata": {},
   "outputs": [],
   "source": []
  },
  {
   "cell_type": "markdown",
   "metadata": {},
   "source": [
    "# Exercise 3 (25 marks)"
   ]
  },
  {
   "cell_type": "markdown",
   "metadata": {},
   "source": [
    "You are given a tree $T$ with an integer value (negative or positive) at each node. We want to select a subtree of $T$ (with the same root) that maximises the sum of the values at its nodes. Note that the answer is trivially $T$ if all nodes have a non-negative value."
   ]
  },
  {
   "cell_type": "markdown",
   "metadata": {},
   "source": [
    "## Question 3.1 (5 marks)"
   ]
  },
  {
   "cell_type": "markdown",
   "metadata": {},
   "source": [
    "Define a data structure to store $T$."
   ]
  },
  {
   "cell_type": "code",
   "execution_count": 277,
   "metadata": {},
   "outputs": [],
   "source": [
    "class Tree:\n",
    "    \n",
    "    def __init__(self, key, value):\n",
    "        self.key = key\n",
    "        self.value = value\n",
    "        self.childern_list = []\n",
    "        \n",
    "    def add_childern(self, tree):\n",
    "        self.childern_list.append(tree)"
   ]
  },
  {
   "cell_type": "code",
   "execution_count": 278,
   "metadata": {},
   "outputs": [],
   "source": [
    "def customize_genrator(tree, value):\n",
    "    trees = {}\n",
    "    # Create nodes \n",
    "    for i, v in enumerate(value):\n",
    "        trees[i] = Tree(i, v)\n",
    "    \n",
    "    # Connect nodes to form a tree\n",
    "    for key in tree:\n",
    "        for data in tree[key]:\n",
    "            trees[key].add_childern(trees[data])\n",
    "            \n",
    "    return trees[0]"
   ]
  },
  {
   "cell_type": "code",
   "execution_count": 279,
   "metadata": {},
   "outputs": [],
   "source": [
    "tree1 = customize_genrator(tree={0:[1,2,3], 1:[4], 2:[5], 3:[6]},\n",
    "                          value=[-10,-1,-1,-1,-1,-1,-1])\n",
    "\n",
    "tree2 = customize_genrator(tree={0:[1,2,3], 1:[4], 2:[5], 3:[6]},\n",
    "                          value=[1,-1,-200,-100,-1,100,1000])\n",
    "\n",
    "tree3 = customize_genrator(tree={0:[1,2], 1:[3], 2:[4,5]},\n",
    "                          value=[10,1,-1,-1,1,1])"
   ]
  },
  {
   "cell_type": "code",
   "execution_count": 280,
   "metadata": {},
   "outputs": [
    {
     "data": {
      "text/plain": [
       "1000"
      ]
     },
     "execution_count": 280,
     "metadata": {},
     "output_type": "execute_result"
    }
   ],
   "source": [
    "tree2.childern_list[2].childern_list[0].value\n",
    "# print(tree2)"
   ]
  },
  {
   "cell_type": "markdown",
   "metadata": {},
   "source": [
    "## Question 3.2 (15 marks)"
   ]
  },
  {
   "cell_type": "markdown",
   "metadata": {},
   "source": [
    "Design and code a dynamic programming algorithm that solves this problem."
   ]
  },
  {
   "cell_type": "code",
   "execution_count": 287,
   "metadata": {},
   "outputs": [],
   "source": [
    "class MaxSubTree:\n",
    "\n",
    "    def __init__(self):\n",
    "        self.result = {}\n",
    "        \n",
    "    def dynamicProgram(self, tree):\n",
    "        \n",
    "        self.result[tree.key] = tree.value\n",
    "\n",
    "        for i in tree.childern_list:\n",
    "            a = self.result[tree.key]\n",
    "            b = self.dynamicProgram(i) + self.result[tree.key]\n",
    "            self.result[tree.key] = max(a, b)\n",
    "      \n",
    "        return self.result[tree.key]     "
   ]
  },
  {
   "cell_type": "markdown",
   "metadata": {},
   "source": [
    "Time complexity is O(n)"
   ]
  },
  {
   "cell_type": "markdown",
   "metadata": {},
   "source": [
    "## Question 3.3 (5 marks)"
   ]
  },
  {
   "cell_type": "markdown",
   "metadata": {},
   "source": [
    " Write and run unit tests and performance tests."
   ]
  },
  {
   "cell_type": "markdown",
   "metadata": {},
   "source": [
    "Test tree"
   ]
  },
  {
   "cell_type": "code",
   "execution_count": 288,
   "metadata": {},
   "outputs": [],
   "source": [
    "# tree is represented by dict, in format: {id: [children1.id, children2.id, ...]}\n",
    "# value[i] is the value of node i\n",
    "# corresponding to sample 1\n",
    "tree1 = customize_genrator(tree={0:[1,2,3], 1:[4], 2:[5], 3:[6]},\n",
    "value=[-10,-1,-1,-1,-1,-1,-1])\n",
    "# corresponding to sample 2\n",
    "tree2 = customize_genrator(tree={0:[1,2,3], 1:[4], 2:[5], 3:[6]},\n",
    "value=[1,-1,-200,-100,-1,100,1000])\n",
    "# corresponding to sample 3\n",
    "tree3 = customize_genrator(tree={0:[1,2], 1:[3], 2:[4,5]},\n",
    "value=[10,1,-1,-1,1,1])"
   ]
  },
  {
   "cell_type": "markdown",
   "metadata": {},
   "source": [
    "Unit test"
   ]
  },
  {
   "cell_type": "code",
   "execution_count": 289,
   "metadata": {},
   "outputs": [
    {
     "name": "stderr",
     "output_type": "stream",
     "text": [
      "...\n",
      "----------------------------------------------------------------------\n",
      "Ran 3 tests in 0.005s\n",
      "\n",
      "OK\n"
     ]
    },
    {
     "data": {
      "text/plain": [
       "<unittest.runner.TextTestResult run=3 errors=0 failures=0>"
      ]
     },
     "execution_count": 289,
     "metadata": {},
     "output_type": "execute_result"
    }
   ],
   "source": [
    "import unittest\n",
    "\n",
    "class TestMaxSubTree(unittest.TestCase):\n",
    "    def setUp(self):\n",
    "        self.tree = None\n",
    "\n",
    "    def test1(self):\n",
    "        self.tree = customize_genrator(tree={0:[1,2,3], 1:[4], 2:[5], 3:[6]}, \\\n",
    "                                       value=[-10,-1,-1,-1,-1,-1,-1])\n",
    "        maxSubTree = MaxSubTree()\n",
    "        value = maxSubTree.dynamicProgram(self.tree)\n",
    "        self.assertTrue(value == -10)\n",
    "\n",
    "    def test2(self):\n",
    "        self.tree = customize_genrator(tree = {0:[1,2,3], 1:[4], 2:[5], 3:[6]}, \\\n",
    "                                       value = [1,-1,-200,-100,-1,100,1000])\n",
    "        maxSubTree = MaxSubTree()\n",
    "        value = maxSubTree.dynamicProgram(self.tree)\n",
    "        self.assertTrue(value == 901)\n",
    "\n",
    "    def test3(self):\n",
    "        self.tree = tree3 = customize_genrator(tree = {0:[1,2], 1:[3], 2:[4,5]}, \\\n",
    "                                               value = [10,1,-1,-1,1,1])\n",
    "        maxSubTree = MaxSubTree()\n",
    "        value = maxSubTree.dynamicProgram(self.tree)\n",
    "        self.assertTrue(value == 12)\n",
    "\n",
    "\n",
    "test = TestMaxSubTree()\n",
    "suite = unittest.TestLoader().loadTestsFromModule(test)\n",
    "unittest.TextTestRunner().run(suite)"
   ]
  },
  {
   "cell_type": "code",
   "execution_count": null,
   "metadata": {},
   "outputs": [],
   "source": []
  },
  {
   "cell_type": "code",
   "execution_count": null,
   "metadata": {},
   "outputs": [],
   "source": []
  }
 ],
 "metadata": {
  "kernelspec": {
   "display_name": "Python [conda env:py36]",
   "language": "python",
   "name": "conda-env-py36-py"
  },
  "language_info": {
   "codemirror_mode": {
    "name": "ipython",
    "version": 3
   },
   "file_extension": ".py",
   "mimetype": "text/x-python",
   "name": "python",
   "nbconvert_exporter": "python",
   "pygments_lexer": "ipython3",
   "version": "3.6.4"
  }
 },
 "nbformat": 4,
 "nbformat_minor": 2
}
